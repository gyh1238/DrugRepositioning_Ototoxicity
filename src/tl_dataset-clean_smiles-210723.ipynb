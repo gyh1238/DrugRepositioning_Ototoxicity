{
 "cells": [
  {
   "cell_type": "code",
   "execution_count": 1,
   "metadata": {},
   "outputs": [
    {
     "name": "stderr",
     "output_type": "stream",
     "text": [
      "RDKit WARNING: [00:49:46] Enabling RDKit 2019.09.3 jupyter extensions\n"
     ]
    }
   ],
   "source": [
    "import numpy as np\n",
    "import deepchem as dc\n",
    "import pandas as pd\n",
    "from rdkit import Chem"
   ]
  },
  {
   "cell_type": "code",
   "execution_count": 2,
   "metadata": {},
   "outputs": [],
   "source": [
    "clintox_data = pd.read_csv('data/clintox/clintox.csv')"
   ]
  },
  {
   "cell_type": "code",
   "execution_count": 3,
   "metadata": {},
   "outputs": [
    {
     "name": "stdout",
     "output_type": "stream",
     "text": [
      "94\n"
     ]
    }
   ],
   "source": [
    "not_approved = clintox_data['FDA_APPROVED'] == 0\n",
    "print(np.sum(not_approved))"
   ]
  },
  {
   "cell_type": "code",
   "execution_count": 4,
   "metadata": {},
   "outputs": [
    {
     "name": "stdout",
     "output_type": "stream",
     "text": [
      "Number of valid mols: 94, Number of discarded mols: 0\n",
      "Number of valid mols: 94, Number of unique mols: 94\n"
     ]
    }
   ],
   "source": [
    "from utils import validate_smiles\n",
    "\n",
    "sel_clintox_smiles = clintox_data[not_approved]['smiles']\n",
    "_, sel_clintox_smiles_unique = validate_smiles(sel_clintox_smiles)"
   ]
  },
  {
   "cell_type": "code",
   "execution_count": 5,
   "metadata": {},
   "outputs": [],
   "source": [
    "tox21_data = pd.read_csv('data/tox21/tox21.csv')"
   ]
  },
  {
   "cell_type": "code",
   "execution_count": 6,
   "metadata": {},
   "outputs": [],
   "source": [
    "tox21_tasks = [\n",
    "    'NR-AR', 'NR-AR-LBD', 'NR-AhR', 'NR-Aromatase', 'NR-ER', 'NR-ER-LBD',\n",
    "    'NR-PPAR-gamma', 'SR-ARE', 'SR-ATAD5', 'SR-HSE', 'SR-MMP', 'SR-p53'\n",
    "]\n",
    "num_tox = np.nan_to_num(np.array(tox21_data[tox21_tasks])).sum(axis=-1)"
   ]
  },
  {
   "cell_type": "code",
   "execution_count": 7,
   "metadata": {},
   "outputs": [
    {
     "name": "stdout",
     "output_type": "stream",
     "text": [
      "Number of valid mols: 400, Number of discarded mols: 0\n",
      "Number of valid mols: 400, Number of unique mols: 400\n"
     ]
    }
   ],
   "source": [
    "sel_tox21_smiles = tox21_data[num_tox >= 4]['smiles']\n",
    "_, sel_tox21_smiles_unique = validate_smiles(sel_tox21_smiles)"
   ]
  },
  {
   "cell_type": "code",
   "execution_count": 8,
   "metadata": {},
   "outputs": [
    {
     "name": "stdout",
     "output_type": "stream",
     "text": [
      "Number of valid mols: 494, Number of discarded mols: 0\n",
      "Number of valid mols: 494, Number of unique mols: 490\n"
     ]
    }
   ],
   "source": [
    "sel_smiles = list(sel_tox21_smiles_unique) + list(sel_clintox_smiles_unique)\n",
    "_, sel_smiles_unique = validate_smiles(sel_smiles)"
   ]
  },
  {
   "cell_type": "code",
   "execution_count": 9,
   "metadata": {},
   "outputs": [
    {
     "name": "stdout",
     "output_type": "stream",
     "text": [
      "Number of valid mols: 70, Number of discarded mols: 0\n",
      "Number of valid mols: 70, Number of unique mols: 69\n"
     ]
    }
   ],
   "source": [
    "amg_data = pd.read_csv('data/tl/amg_data-210723.csv')\n",
    "_, amg_smiles_unique = validate_smiles(amg_data['smiles'])"
   ]
  },
  {
   "cell_type": "code",
   "execution_count": 10,
   "metadata": {},
   "outputs": [
    {
     "name": "stdout",
     "output_type": "stream",
     "text": [
      "Number of valid mols: 90, Number of discarded mols: 0\n",
      "Number of valid mols: 90, Number of unique mols: 79\n"
     ]
    }
   ],
   "source": [
    "cisplatin_data = pd.read_csv('data/tl/cisplatin_data-210723.csv')\n",
    "_, cisplatin_smiles_unique = validate_smiles(cisplatin_data['smiles'])"
   ]
  },
  {
   "cell_type": "code",
   "execution_count": 11,
   "metadata": {},
   "outputs": [
    {
     "name": "stdout",
     "output_type": "stream",
     "text": [
      "Number of valid mols: 33, Number of discarded mols: 0\n",
      "Number of valid mols: 33, Number of unique mols: 29\n"
     ]
    }
   ],
   "source": [
    "ototoxicity_data = pd.read_csv('data/tl/ototoxicity_data-210723.csv')\n",
    "_, ototoxicity_smiles_unique = validate_smiles(ototoxicity_data['smiles'])"
   ]
  },
  {
   "cell_type": "code",
   "execution_count": 12,
   "metadata": {},
   "outputs": [
    {
     "name": "stdout",
     "output_type": "stream",
     "text": [
      "Number of valid mols: 21, Number of discarded mols: 0\n",
      "Number of valid mols: 21, Number of unique mols: 20\n"
     ]
    }
   ],
   "source": [
    "exp_neg_data = pd.read_csv('data/tl/experiment_negative_data.csv')\n",
    "_, exp_neg_smiles_unique = validate_smiles(exp_neg_data['smiles'])"
   ]
  },
  {
   "cell_type": "code",
   "execution_count": 13,
   "metadata": {},
   "outputs": [
    {
     "name": "stdout",
     "output_type": "stream",
     "text": [
      "Number of valid mols: 687, Number of discarded mols: 0\n",
      "Number of valid mols: 687, Number of unique mols: 667\n"
     ]
    }
   ],
   "source": [
    "_, all_smiles_unique = validate_smiles(\n",
    "    np.concatenate([sel_smiles_unique, amg_smiles_unique, \n",
    "                    cisplatin_smiles_unique, ototoxicity_smiles_unique,\n",
    "                    exp_neg_smiles_unique])\n",
    ")"
   ]
  },
  {
   "cell_type": "code",
   "execution_count": 14,
   "metadata": {},
   "outputs": [],
   "source": [
    "all_smiles_unique = all_smiles_unique.reshape(-1, 1)"
   ]
  },
  {
   "cell_type": "code",
   "execution_count": 15,
   "metadata": {},
   "outputs": [
    {
     "data": {
      "text/html": [
       "<div>\n",
       "<style scoped>\n",
       "    .dataframe tbody tr th:only-of-type {\n",
       "        vertical-align: middle;\n",
       "    }\n",
       "\n",
       "    .dataframe tbody tr th {\n",
       "        vertical-align: top;\n",
       "    }\n",
       "\n",
       "    .dataframe thead th {\n",
       "        text-align: right;\n",
       "    }\n",
       "</style>\n",
       "<table border=\"1\" class=\"dataframe\">\n",
       "  <thead>\n",
       "    <tr style=\"text-align: right;\">\n",
       "      <th></th>\n",
       "      <th>smiles</th>\n",
       "      <th>amg</th>\n",
       "      <th>cisplatin</th>\n",
       "    </tr>\n",
       "  </thead>\n",
       "  <tbody>\n",
       "    <tr>\n",
       "      <th>0</th>\n",
       "      <td>Br.Cc1ccc(C(=O)Cn2c3c(sc2=N)CCCC3)cc1</td>\n",
       "      <td></td>\n",
       "      <td></td>\n",
       "    </tr>\n",
       "    <tr>\n",
       "      <th>1</th>\n",
       "      <td>Brc1c2ccccc2c(Br)c2ccccc12</td>\n",
       "      <td></td>\n",
       "      <td></td>\n",
       "    </tr>\n",
       "    <tr>\n",
       "      <th>2</th>\n",
       "      <td>C#CC1(O)CC[C@H]2[C@@H]3CCC4=CC(=O)CC[C@@H]4[C@...</td>\n",
       "      <td></td>\n",
       "      <td></td>\n",
       "    </tr>\n",
       "    <tr>\n",
       "      <th>3</th>\n",
       "      <td>C#C[C@@]1(O)CC[C@H]2[C@@H]3CCC4=CCCC[C@@H]4[C@...</td>\n",
       "      <td></td>\n",
       "      <td></td>\n",
       "    </tr>\n",
       "    <tr>\n",
       "      <th>4</th>\n",
       "      <td>C#C[C@]1(O)C=C[C@H]2[C@@H]3CCC4=CC(=O)CC[C@@H]...</td>\n",
       "      <td></td>\n",
       "      <td></td>\n",
       "    </tr>\n",
       "    <tr>\n",
       "      <th>...</th>\n",
       "      <td>...</td>\n",
       "      <td>...</td>\n",
       "      <td>...</td>\n",
       "    </tr>\n",
       "    <tr>\n",
       "      <th>662</th>\n",
       "      <td>c1ccc2cc3c(ccc4ccccc43)cc2c1</td>\n",
       "      <td></td>\n",
       "      <td></td>\n",
       "    </tr>\n",
       "    <tr>\n",
       "      <th>663</th>\n",
       "      <td>c1ccc2nccnc2c1</td>\n",
       "      <td></td>\n",
       "      <td></td>\n",
       "    </tr>\n",
       "    <tr>\n",
       "      <th>664</th>\n",
       "      <td>c1ccc2sc(SNC3CCCCC3)nc2c1</td>\n",
       "      <td></td>\n",
       "      <td></td>\n",
       "    </tr>\n",
       "    <tr>\n",
       "      <th>665</th>\n",
       "      <td>c1ccc2sc(SSN3CCOCC3)nc2c1</td>\n",
       "      <td></td>\n",
       "      <td></td>\n",
       "    </tr>\n",
       "    <tr>\n",
       "      <th>666</th>\n",
       "      <td>c1csc(-c2ccc(-c3cccs3)s2)c1</td>\n",
       "      <td></td>\n",
       "      <td></td>\n",
       "    </tr>\n",
       "  </tbody>\n",
       "</table>\n",
       "<p>667 rows × 3 columns</p>\n",
       "</div>"
      ],
      "text/plain": [
       "                                                smiles amg cisplatin\n",
       "0                Br.Cc1ccc(C(=O)Cn2c3c(sc2=N)CCCC3)cc1              \n",
       "1                           Brc1c2ccccc2c(Br)c2ccccc12              \n",
       "2    C#CC1(O)CC[C@H]2[C@@H]3CCC4=CC(=O)CC[C@@H]4[C@...              \n",
       "3    C#C[C@@]1(O)CC[C@H]2[C@@H]3CCC4=CCCC[C@@H]4[C@...              \n",
       "4    C#C[C@]1(O)C=C[C@H]2[C@@H]3CCC4=CC(=O)CC[C@@H]...              \n",
       "..                                                 ...  ..       ...\n",
       "662                       c1ccc2cc3c(ccc4ccccc43)cc2c1              \n",
       "663                                     c1ccc2nccnc2c1              \n",
       "664                          c1ccc2sc(SNC3CCCCC3)nc2c1              \n",
       "665                          c1ccc2sc(SSN3CCOCC3)nc2c1              \n",
       "666                        c1csc(-c2ccc(-c3cccs3)s2)c1              \n",
       "\n",
       "[667 rows x 3 columns]"
      ]
     },
     "execution_count": 15,
     "metadata": {},
     "output_type": "execute_result"
    }
   ],
   "source": [
    "tl_data = pd.DataFrame(np.concatenate([all_smiles_unique, \n",
    "                        np.empty_like(all_smiles_unique),\n",
    "                        np.empty_like(all_smiles_unique)], axis=-1),\n",
    "                      columns=['smiles', 'amg', 'cisplatin'])\n",
    "tl_data"
   ]
  },
  {
   "cell_type": "code",
   "execution_count": 16,
   "metadata": {},
   "outputs": [
    {
     "data": {
      "text/html": [
       "<div>\n",
       "<style scoped>\n",
       "    .dataframe tbody tr th:only-of-type {\n",
       "        vertical-align: middle;\n",
       "    }\n",
       "\n",
       "    .dataframe tbody tr th {\n",
       "        vertical-align: top;\n",
       "    }\n",
       "\n",
       "    .dataframe thead th {\n",
       "        text-align: right;\n",
       "    }\n",
       "</style>\n",
       "<table border=\"1\" class=\"dataframe\">\n",
       "  <thead>\n",
       "    <tr style=\"text-align: right;\">\n",
       "      <th></th>\n",
       "      <th>smiles</th>\n",
       "      <th>amg</th>\n",
       "      <th>cisplatin</th>\n",
       "    </tr>\n",
       "  </thead>\n",
       "  <tbody>\n",
       "    <tr>\n",
       "      <th>0</th>\n",
       "      <td>Br.Cc1ccc(C(=O)Cn2c3c(sc2=N)CCCC3)cc1</td>\n",
       "      <td></td>\n",
       "      <td>1.0</td>\n",
       "    </tr>\n",
       "    <tr>\n",
       "      <th>1</th>\n",
       "      <td>Brc1c2ccccc2c(Br)c2ccccc12</td>\n",
       "      <td>0.0</td>\n",
       "      <td>0.0</td>\n",
       "    </tr>\n",
       "    <tr>\n",
       "      <th>2</th>\n",
       "      <td>C#CC1(O)CC[C@H]2[C@@H]3CCC4=CC(=O)CC[C@@H]4[C@...</td>\n",
       "      <td>0.0</td>\n",
       "      <td>0.0</td>\n",
       "    </tr>\n",
       "    <tr>\n",
       "      <th>3</th>\n",
       "      <td>C#C[C@@]1(O)CC[C@H]2[C@@H]3CCC4=CCCC[C@@H]4[C@...</td>\n",
       "      <td>0.0</td>\n",
       "      <td>0.0</td>\n",
       "    </tr>\n",
       "    <tr>\n",
       "      <th>4</th>\n",
       "      <td>C#C[C@]1(O)C=C[C@H]2[C@@H]3CCC4=CC(=O)CC[C@@H]...</td>\n",
       "      <td>0.0</td>\n",
       "      <td>0.0</td>\n",
       "    </tr>\n",
       "    <tr>\n",
       "      <th>...</th>\n",
       "      <td>...</td>\n",
       "      <td>...</td>\n",
       "      <td>...</td>\n",
       "    </tr>\n",
       "    <tr>\n",
       "      <th>662</th>\n",
       "      <td>c1ccc2cc3c(ccc4ccccc43)cc2c1</td>\n",
       "      <td>0.0</td>\n",
       "      <td>0.0</td>\n",
       "    </tr>\n",
       "    <tr>\n",
       "      <th>663</th>\n",
       "      <td>c1ccc2nccnc2c1</td>\n",
       "      <td>1.0</td>\n",
       "      <td>1.0</td>\n",
       "    </tr>\n",
       "    <tr>\n",
       "      <th>664</th>\n",
       "      <td>c1ccc2sc(SNC3CCCCC3)nc2c1</td>\n",
       "      <td>0.0</td>\n",
       "      <td>0.0</td>\n",
       "    </tr>\n",
       "    <tr>\n",
       "      <th>665</th>\n",
       "      <td>c1ccc2sc(SSN3CCOCC3)nc2c1</td>\n",
       "      <td>0.0</td>\n",
       "      <td>0.0</td>\n",
       "    </tr>\n",
       "    <tr>\n",
       "      <th>666</th>\n",
       "      <td>c1csc(-c2ccc(-c3cccs3)s2)c1</td>\n",
       "      <td>0.0</td>\n",
       "      <td>0.0</td>\n",
       "    </tr>\n",
       "  </tbody>\n",
       "</table>\n",
       "<p>667 rows × 3 columns</p>\n",
       "</div>"
      ],
      "text/plain": [
       "                                                smiles  amg cisplatin\n",
       "0                Br.Cc1ccc(C(=O)Cn2c3c(sc2=N)CCCC3)cc1            1.0\n",
       "1                           Brc1c2ccccc2c(Br)c2ccccc12  0.0       0.0\n",
       "2    C#CC1(O)CC[C@H]2[C@@H]3CCC4=CC(=O)CC[C@@H]4[C@...  0.0       0.0\n",
       "3    C#C[C@@]1(O)CC[C@H]2[C@@H]3CCC4=CCCC[C@@H]4[C@...  0.0       0.0\n",
       "4    C#C[C@]1(O)C=C[C@H]2[C@@H]3CCC4=CC(=O)CC[C@@H]...  0.0       0.0\n",
       "..                                                 ...  ...       ...\n",
       "662                       c1ccc2cc3c(ccc4ccccc43)cc2c1  0.0       0.0\n",
       "663                                     c1ccc2nccnc2c1  1.0       1.0\n",
       "664                          c1ccc2sc(SNC3CCCCC3)nc2c1  0.0       0.0\n",
       "665                          c1ccc2sc(SSN3CCOCC3)nc2c1  0.0       0.0\n",
       "666                        c1csc(-c2ccc(-c3cccs3)s2)c1  0.0       0.0\n",
       "\n",
       "[667 rows x 3 columns]"
      ]
     },
     "execution_count": 16,
     "metadata": {},
     "output_type": "execute_result"
    }
   ],
   "source": [
    "for i in range(len(tl_data)):\n",
    "    curr_smiles = tl_data['smiles'].iloc[i]\n",
    "    if curr_smiles in amg_smiles_unique:\n",
    "        tl_data.iloc[i]['amg'] = 1.\n",
    "    if curr_smiles in cisplatin_smiles_unique:\n",
    "        tl_data.iloc[i]['cisplatin'] = 1.\n",
    "    if (curr_smiles in sel_smiles_unique) or (curr_smiles in ototoxicity_smiles_unique) or (curr_smiles in exp_neg_smiles_unique):\n",
    "        tl_data.iloc[i]['amg'] = 0.\n",
    "        tl_data.iloc[i]['cisplatin'] = 0.\n",
    "tl_data"
   ]
  },
  {
   "cell_type": "code",
   "execution_count": 17,
   "metadata": {},
   "outputs": [],
   "source": [
    "tl_data.to_csv('data/tl/combined_data.csv', index=False)"
   ]
  },
  {
   "cell_type": "code",
   "execution_count": 18,
   "metadata": {},
   "outputs": [
    {
     "data": {
      "text/html": [
       "<div>\n",
       "<style scoped>\n",
       "    .dataframe tbody tr th:only-of-type {\n",
       "        vertical-align: middle;\n",
       "    }\n",
       "\n",
       "    .dataframe tbody tr th {\n",
       "        vertical-align: top;\n",
       "    }\n",
       "\n",
       "    .dataframe thead th {\n",
       "        text-align: right;\n",
       "    }\n",
       "</style>\n",
       "<table border=\"1\" class=\"dataframe\">\n",
       "  <thead>\n",
       "    <tr style=\"text-align: right;\">\n",
       "      <th></th>\n",
       "      <th>smiles</th>\n",
       "      <th>amg</th>\n",
       "      <th>cisplatin</th>\n",
       "    </tr>\n",
       "  </thead>\n",
       "  <tbody>\n",
       "    <tr>\n",
       "      <th>0</th>\n",
       "      <td>Br.Cc1ccc(C(=O)Cn2c3c(sc2=N)CCCC3)cc1</td>\n",
       "      <td>NaN</td>\n",
       "      <td>1.0</td>\n",
       "    </tr>\n",
       "    <tr>\n",
       "      <th>1</th>\n",
       "      <td>Brc1c2ccccc2c(Br)c2ccccc12</td>\n",
       "      <td>0.0</td>\n",
       "      <td>0.0</td>\n",
       "    </tr>\n",
       "    <tr>\n",
       "      <th>2</th>\n",
       "      <td>C#CC1(O)CC[C@H]2[C@@H]3CCC4=CC(=O)CC[C@@H]4[C@...</td>\n",
       "      <td>0.0</td>\n",
       "      <td>0.0</td>\n",
       "    </tr>\n",
       "    <tr>\n",
       "      <th>3</th>\n",
       "      <td>C#C[C@@]1(O)CC[C@H]2[C@@H]3CCC4=CCCC[C@@H]4[C@...</td>\n",
       "      <td>0.0</td>\n",
       "      <td>0.0</td>\n",
       "    </tr>\n",
       "    <tr>\n",
       "      <th>4</th>\n",
       "      <td>C#C[C@]1(O)C=C[C@H]2[C@@H]3CCC4=CC(=O)CC[C@@H]...</td>\n",
       "      <td>0.0</td>\n",
       "      <td>0.0</td>\n",
       "    </tr>\n",
       "    <tr>\n",
       "      <th>...</th>\n",
       "      <td>...</td>\n",
       "      <td>...</td>\n",
       "      <td>...</td>\n",
       "    </tr>\n",
       "    <tr>\n",
       "      <th>662</th>\n",
       "      <td>c1ccc2cc3c(ccc4ccccc43)cc2c1</td>\n",
       "      <td>0.0</td>\n",
       "      <td>0.0</td>\n",
       "    </tr>\n",
       "    <tr>\n",
       "      <th>663</th>\n",
       "      <td>c1ccc2nccnc2c1</td>\n",
       "      <td>1.0</td>\n",
       "      <td>1.0</td>\n",
       "    </tr>\n",
       "    <tr>\n",
       "      <th>664</th>\n",
       "      <td>c1ccc2sc(SNC3CCCCC3)nc2c1</td>\n",
       "      <td>0.0</td>\n",
       "      <td>0.0</td>\n",
       "    </tr>\n",
       "    <tr>\n",
       "      <th>665</th>\n",
       "      <td>c1ccc2sc(SSN3CCOCC3)nc2c1</td>\n",
       "      <td>0.0</td>\n",
       "      <td>0.0</td>\n",
       "    </tr>\n",
       "    <tr>\n",
       "      <th>666</th>\n",
       "      <td>c1csc(-c2ccc(-c3cccs3)s2)c1</td>\n",
       "      <td>0.0</td>\n",
       "      <td>0.0</td>\n",
       "    </tr>\n",
       "  </tbody>\n",
       "</table>\n",
       "<p>667 rows × 3 columns</p>\n",
       "</div>"
      ],
      "text/plain": [
       "                                                smiles  amg  cisplatin\n",
       "0                Br.Cc1ccc(C(=O)Cn2c3c(sc2=N)CCCC3)cc1  NaN        1.0\n",
       "1                           Brc1c2ccccc2c(Br)c2ccccc12  0.0        0.0\n",
       "2    C#CC1(O)CC[C@H]2[C@@H]3CCC4=CC(=O)CC[C@@H]4[C@...  0.0        0.0\n",
       "3    C#C[C@@]1(O)CC[C@H]2[C@@H]3CCC4=CCCC[C@@H]4[C@...  0.0        0.0\n",
       "4    C#C[C@]1(O)C=C[C@H]2[C@@H]3CCC4=CC(=O)CC[C@@H]...  0.0        0.0\n",
       "..                                                 ...  ...        ...\n",
       "662                       c1ccc2cc3c(ccc4ccccc43)cc2c1  0.0        0.0\n",
       "663                                     c1ccc2nccnc2c1  1.0        1.0\n",
       "664                          c1ccc2sc(SNC3CCCCC3)nc2c1  0.0        0.0\n",
       "665                          c1ccc2sc(SSN3CCOCC3)nc2c1  0.0        0.0\n",
       "666                        c1csc(-c2ccc(-c3cccs3)s2)c1  0.0        0.0\n",
       "\n",
       "[667 rows x 3 columns]"
      ]
     },
     "execution_count": 18,
     "metadata": {},
     "output_type": "execute_result"
    }
   ],
   "source": [
    "import pandas as pd\n",
    "import numpy as np\n",
    "\n",
    "data = pd.read_csv('data/tl/combined_data.csv')\n",
    "data"
   ]
  },
  {
   "cell_type": "code",
   "execution_count": 19,
   "metadata": {},
   "outputs": [
    {
     "data": {
      "text/html": [
       "<div>\n",
       "<style scoped>\n",
       "    .dataframe tbody tr th:only-of-type {\n",
       "        vertical-align: middle;\n",
       "    }\n",
       "\n",
       "    .dataframe tbody tr th {\n",
       "        vertical-align: top;\n",
       "    }\n",
       "\n",
       "    .dataframe thead th {\n",
       "        text-align: right;\n",
       "    }\n",
       "</style>\n",
       "<table border=\"1\" class=\"dataframe\">\n",
       "  <thead>\n",
       "    <tr style=\"text-align: right;\">\n",
       "      <th></th>\n",
       "      <th>smiles</th>\n",
       "      <th>amg</th>\n",
       "    </tr>\n",
       "  </thead>\n",
       "  <tbody>\n",
       "    <tr>\n",
       "      <th>1</th>\n",
       "      <td>Brc1c2ccccc2c(Br)c2ccccc12</td>\n",
       "      <td>0.0</td>\n",
       "    </tr>\n",
       "    <tr>\n",
       "      <th>2</th>\n",
       "      <td>C#CC1(O)CC[C@H]2[C@@H]3CCC4=CC(=O)CC[C@@H]4[C@...</td>\n",
       "      <td>0.0</td>\n",
       "    </tr>\n",
       "    <tr>\n",
       "      <th>3</th>\n",
       "      <td>C#C[C@@]1(O)CC[C@H]2[C@@H]3CCC4=CCCC[C@@H]4[C@...</td>\n",
       "      <td>0.0</td>\n",
       "    </tr>\n",
       "    <tr>\n",
       "      <th>4</th>\n",
       "      <td>C#C[C@]1(O)C=C[C@H]2[C@@H]3CCC4=CC(=O)CC[C@@H]...</td>\n",
       "      <td>0.0</td>\n",
       "    </tr>\n",
       "    <tr>\n",
       "      <th>5</th>\n",
       "      <td>C#C[C@]1(O)CC[C@H]2[C@@H]3CCC4=C(CCC(=O)C4)[C@...</td>\n",
       "      <td>0.0</td>\n",
       "    </tr>\n",
       "    <tr>\n",
       "      <th>...</th>\n",
       "      <td>...</td>\n",
       "      <td>...</td>\n",
       "    </tr>\n",
       "    <tr>\n",
       "      <th>662</th>\n",
       "      <td>c1ccc2cc3c(ccc4ccccc43)cc2c1</td>\n",
       "      <td>0.0</td>\n",
       "    </tr>\n",
       "    <tr>\n",
       "      <th>663</th>\n",
       "      <td>c1ccc2nccnc2c1</td>\n",
       "      <td>1.0</td>\n",
       "    </tr>\n",
       "    <tr>\n",
       "      <th>664</th>\n",
       "      <td>c1ccc2sc(SNC3CCCCC3)nc2c1</td>\n",
       "      <td>0.0</td>\n",
       "    </tr>\n",
       "    <tr>\n",
       "      <th>665</th>\n",
       "      <td>c1ccc2sc(SSN3CCOCC3)nc2c1</td>\n",
       "      <td>0.0</td>\n",
       "    </tr>\n",
       "    <tr>\n",
       "      <th>666</th>\n",
       "      <td>c1csc(-c2ccc(-c3cccs3)s2)c1</td>\n",
       "      <td>0.0</td>\n",
       "    </tr>\n",
       "  </tbody>\n",
       "</table>\n",
       "<p>606 rows × 2 columns</p>\n",
       "</div>"
      ],
      "text/plain": [
       "                                                smiles  amg\n",
       "1                           Brc1c2ccccc2c(Br)c2ccccc12  0.0\n",
       "2    C#CC1(O)CC[C@H]2[C@@H]3CCC4=CC(=O)CC[C@@H]4[C@...  0.0\n",
       "3    C#C[C@@]1(O)CC[C@H]2[C@@H]3CCC4=CCCC[C@@H]4[C@...  0.0\n",
       "4    C#C[C@]1(O)C=C[C@H]2[C@@H]3CCC4=CC(=O)CC[C@@H]...  0.0\n",
       "5    C#C[C@]1(O)CC[C@H]2[C@@H]3CCC4=C(CCC(=O)C4)[C@...  0.0\n",
       "..                                                 ...  ...\n",
       "662                       c1ccc2cc3c(ccc4ccccc43)cc2c1  0.0\n",
       "663                                     c1ccc2nccnc2c1  1.0\n",
       "664                          c1ccc2sc(SNC3CCCCC3)nc2c1  0.0\n",
       "665                          c1ccc2sc(SSN3CCOCC3)nc2c1  0.0\n",
       "666                        c1csc(-c2ccc(-c3cccs3)s2)c1  0.0\n",
       "\n",
       "[606 rows x 2 columns]"
      ]
     },
     "execution_count": 19,
     "metadata": {},
     "output_type": "execute_result"
    }
   ],
   "source": [
    "data_amg = data[['smiles', 'amg']].dropna()\n",
    "data_amg"
   ]
  },
  {
   "cell_type": "code",
   "execution_count": 20,
   "metadata": {},
   "outputs": [],
   "source": [
    "data_amg.to_csv('data/tl/combined_amg_data.csv', index=False)"
   ]
  },
  {
   "cell_type": "code",
   "execution_count": 21,
   "metadata": {},
   "outputs": [
    {
     "data": {
      "text/html": [
       "<div>\n",
       "<style scoped>\n",
       "    .dataframe tbody tr th:only-of-type {\n",
       "        vertical-align: middle;\n",
       "    }\n",
       "\n",
       "    .dataframe tbody tr th {\n",
       "        vertical-align: top;\n",
       "    }\n",
       "\n",
       "    .dataframe thead th {\n",
       "        text-align: right;\n",
       "    }\n",
       "</style>\n",
       "<table border=\"1\" class=\"dataframe\">\n",
       "  <thead>\n",
       "    <tr style=\"text-align: right;\">\n",
       "      <th></th>\n",
       "      <th>smiles</th>\n",
       "      <th>cisplatin</th>\n",
       "    </tr>\n",
       "  </thead>\n",
       "  <tbody>\n",
       "    <tr>\n",
       "      <th>0</th>\n",
       "      <td>Br.Cc1ccc(C(=O)Cn2c3c(sc2=N)CCCC3)cc1</td>\n",
       "      <td>1.0</td>\n",
       "    </tr>\n",
       "    <tr>\n",
       "      <th>1</th>\n",
       "      <td>Brc1c2ccccc2c(Br)c2ccccc12</td>\n",
       "      <td>0.0</td>\n",
       "    </tr>\n",
       "    <tr>\n",
       "      <th>2</th>\n",
       "      <td>C#CC1(O)CC[C@H]2[C@@H]3CCC4=CC(=O)CC[C@@H]4[C@...</td>\n",
       "      <td>0.0</td>\n",
       "    </tr>\n",
       "    <tr>\n",
       "      <th>3</th>\n",
       "      <td>C#C[C@@]1(O)CC[C@H]2[C@@H]3CCC4=CCCC[C@@H]4[C@...</td>\n",
       "      <td>0.0</td>\n",
       "    </tr>\n",
       "    <tr>\n",
       "      <th>4</th>\n",
       "      <td>C#C[C@]1(O)C=C[C@H]2[C@@H]3CCC4=CC(=O)CC[C@@H]...</td>\n",
       "      <td>0.0</td>\n",
       "    </tr>\n",
       "    <tr>\n",
       "      <th>...</th>\n",
       "      <td>...</td>\n",
       "      <td>...</td>\n",
       "    </tr>\n",
       "    <tr>\n",
       "      <th>662</th>\n",
       "      <td>c1ccc2cc3c(ccc4ccccc43)cc2c1</td>\n",
       "      <td>0.0</td>\n",
       "    </tr>\n",
       "    <tr>\n",
       "      <th>663</th>\n",
       "      <td>c1ccc2nccnc2c1</td>\n",
       "      <td>1.0</td>\n",
       "    </tr>\n",
       "    <tr>\n",
       "      <th>664</th>\n",
       "      <td>c1ccc2sc(SNC3CCCCC3)nc2c1</td>\n",
       "      <td>0.0</td>\n",
       "    </tr>\n",
       "    <tr>\n",
       "      <th>665</th>\n",
       "      <td>c1ccc2sc(SSN3CCOCC3)nc2c1</td>\n",
       "      <td>0.0</td>\n",
       "    </tr>\n",
       "    <tr>\n",
       "      <th>666</th>\n",
       "      <td>c1csc(-c2ccc(-c3cccs3)s2)c1</td>\n",
       "      <td>0.0</td>\n",
       "    </tr>\n",
       "  </tbody>\n",
       "</table>\n",
       "<p>614 rows × 2 columns</p>\n",
       "</div>"
      ],
      "text/plain": [
       "                                                smiles  cisplatin\n",
       "0                Br.Cc1ccc(C(=O)Cn2c3c(sc2=N)CCCC3)cc1        1.0\n",
       "1                           Brc1c2ccccc2c(Br)c2ccccc12        0.0\n",
       "2    C#CC1(O)CC[C@H]2[C@@H]3CCC4=CC(=O)CC[C@@H]4[C@...        0.0\n",
       "3    C#C[C@@]1(O)CC[C@H]2[C@@H]3CCC4=CCCC[C@@H]4[C@...        0.0\n",
       "4    C#C[C@]1(O)C=C[C@H]2[C@@H]3CCC4=CC(=O)CC[C@@H]...        0.0\n",
       "..                                                 ...        ...\n",
       "662                       c1ccc2cc3c(ccc4ccccc43)cc2c1        0.0\n",
       "663                                     c1ccc2nccnc2c1        1.0\n",
       "664                          c1ccc2sc(SNC3CCCCC3)nc2c1        0.0\n",
       "665                          c1ccc2sc(SSN3CCOCC3)nc2c1        0.0\n",
       "666                        c1csc(-c2ccc(-c3cccs3)s2)c1        0.0\n",
       "\n",
       "[614 rows x 2 columns]"
      ]
     },
     "execution_count": 21,
     "metadata": {},
     "output_type": "execute_result"
    }
   ],
   "source": [
    "data_cisplatin = data[['smiles', 'cisplatin']].dropna()\n",
    "data_cisplatin"
   ]
  },
  {
   "cell_type": "code",
   "execution_count": 22,
   "metadata": {},
   "outputs": [],
   "source": [
    "data_cisplatin.to_csv('data/tl/combined_cisplatin_data.csv', index=False)"
   ]
  },
  {
   "cell_type": "code",
   "execution_count": 23,
   "metadata": {},
   "outputs": [],
   "source": [
    "data_amg.to_csv('data/combined/amg/combined_amg_data.csv.gz', \n",
    "                index=False, compression='gzip')\n",
    "data_cisplatin.to_csv('data/combined/cisplatin/combined_cisplatin_data.csv.gz', \n",
    "                      index=False, compression='gzip')"
   ]
  },
  {
   "cell_type": "code",
   "execution_count": null,
   "metadata": {},
   "outputs": [],
   "source": []
  }
 ],
 "metadata": {
  "kernelspec": {
   "display_name": "Python 3",
   "language": "python",
   "name": "python3"
  },
  "language_info": {
   "codemirror_mode": {
    "name": "ipython",
    "version": 3
   },
   "file_extension": ".py",
   "mimetype": "text/x-python",
   "name": "python",
   "nbconvert_exporter": "python",
   "pygments_lexer": "ipython3",
   "version": "3.8.8"
  }
 },
 "nbformat": 4,
 "nbformat_minor": 5
}
